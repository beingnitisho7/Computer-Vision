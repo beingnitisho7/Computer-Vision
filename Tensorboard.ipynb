{
 "cells": [
  {
   "cell_type": "code",
   "execution_count": 1,
   "metadata": {},
   "outputs": [
    {
     "name": "stderr",
     "output_type": "stream",
     "text": [
      "D:\\Anaconda\\lib\\site-packages\\h5py\\__init__.py:36: FutureWarning: Conversion of the second argument of issubdtype from `float` to `np.floating` is deprecated. In future, it will be treated as `np.float64 == np.dtype(float).type`.\n",
      "  from ._conv import register_converters as _register_converters\n"
     ]
    }
   ],
   "source": [
    "from tensorflow.keras.datasets import mnist\n",
    "from tensorflow.keras.models import Sequential\n",
    "from tensorflow.keras.layers import Conv2D,Dense,Flatten,Dropout\n",
    "\n",
    "import numpy as np\n",
    "import matplotlib.pyplot as plt"
   ]
  },
  {
   "cell_type": "code",
   "execution_count": 2,
   "metadata": {},
   "outputs": [],
   "source": [
    "(x_train, y_train), (x_test,y_test)= mnist.load_data()"
   ]
  },
  {
   "cell_type": "code",
   "execution_count": 3,
   "metadata": {},
   "outputs": [
    {
     "data": {
      "text/plain": [
       "(28, 28)"
      ]
     },
     "execution_count": 3,
     "metadata": {},
     "output_type": "execute_result"
    }
   ],
   "source": [
    "x_train[0].shape"
   ]
  },
  {
   "cell_type": "code",
   "execution_count": 4,
   "metadata": {},
   "outputs": [],
   "source": [
    "import tensorflow"
   ]
  },
  {
   "cell_type": "code",
   "execution_count": 5,
   "metadata": {},
   "outputs": [
    {
     "data": {
      "text/plain": [
       "'2.0.0'"
      ]
     },
     "execution_count": 5,
     "metadata": {},
     "output_type": "execute_result"
    }
   ],
   "source": [
    "tensorflow.__version__"
   ]
  },
  {
   "cell_type": "code",
   "execution_count": null,
   "metadata": {},
   "outputs": [],
   "source": []
  },
  {
   "cell_type": "code",
   "execution_count": 6,
   "metadata": {},
   "outputs": [],
   "source": [
    "x_train=x_train.reshape(-1,28,28,1)/255\n",
    "x_test=x_test.reshape(-1,28,28,1)/255"
   ]
  },
  {
   "cell_type": "code",
   "execution_count": 7,
   "metadata": {},
   "outputs": [
    {
     "name": "stderr",
     "output_type": "stream",
     "text": [
      "Using TensorFlow backend.\n"
     ]
    }
   ],
   "source": [
    "from keras.utils import to_categorical\n",
    "\n",
    "y_train = to_categorical(y_train, num_classes=10)\n",
    "y_test = to_categorical(y_test, num_classes=10)"
   ]
  },
  {
   "cell_type": "code",
   "execution_count": 8,
   "metadata": {},
   "outputs": [
    {
     "name": "stdout",
     "output_type": "stream",
     "text": [
      "Model: \"sequential\"\n",
      "_________________________________________________________________\n",
      "Layer (type)                 Output Shape              Param #   \n",
      "=================================================================\n",
      "conv2d (Conv2D)              (None, 26, 26, 5)         50        \n",
      "_________________________________________________________________\n",
      "conv2d_1 (Conv2D)            (None, 24, 24, 5)         230       \n",
      "_________________________________________________________________\n",
      "flatten (Flatten)            (None, 2880)              0         \n",
      "_________________________________________________________________\n",
      "dense (Dense)                (None, 10)                28810     \n",
      "=================================================================\n",
      "Total params: 29,090\n",
      "Trainable params: 29,090\n",
      "Non-trainable params: 0\n",
      "_________________________________________________________________\n"
     ]
    }
   ],
   "source": [
    "model = Sequential()\n",
    "model.add(Conv2D(filters =5, kernel_size=(3,3),input_shape=(28,28,1), activation='relu'))\n",
    "model.add(Conv2D(filters =5, kernel_size=(3,3), activation='relu'))\n",
    "model.add(Flatten())\n",
    "model.add(Dense(10,activation='softmax')) #10 ota image xa\n",
    "model.summary()"
   ]
  },
  {
   "cell_type": "code",
   "execution_count": 9,
   "metadata": {},
   "outputs": [],
   "source": [
    "model.compile('sgd', 'categorical_crossentropy',metrics=['acc'])"
   ]
  },
  {
   "cell_type": "code",
   "execution_count": 10,
   "metadata": {},
   "outputs": [],
   "source": [
    "import os\n",
    "from tensorflow.keras.callbacks import EarlyStopping #  means accuracy same airaxa and acuracy tyo vanda badaina \n",
    "from tensorflow.keras.callbacks import ModelCheckpoint\n",
    "from tensorflow.keras.callbacks import TensorBoard\n",
    "\n",
    "#schedule =learningrateschedule(schedule, verbose=0) #schedule = function \n",
    "\n",
    "logdir = os.path.join('callbacks')\n",
    "tensorboard=TensorBoard(log_dir=logdir, histogram_freq=1,write_images=True)\n",
    "\n",
    "stop=EarlyStopping(monitor='val_loss', min_delta=0,\n",
    "                  patience=3,\n",
    "                  verbose=1,\n",
    "                  restore_best_weights=True)\n",
    "\n",
    "checkpoint=ModelCheckpoint('.model.h5',\n",
    "                          monitor='val_loss',\n",
    "                          mode='min',\n",
    "                          verbose=1)"
   ]
  },
  {
   "cell_type": "code",
   "execution_count": 11,
   "metadata": {},
   "outputs": [
    {
     "name": "stdout",
     "output_type": "stream",
     "text": [
      "Train on 54000 samples, validate on 6000 samples\n",
      "Epoch 1/10\n",
      "   32/54000 [..............................] - ETA: 44:34 - loss: 2.3302 - acc: 0.0312"
     ]
    },
    {
     "name": "stderr",
     "output_type": "stream",
     "text": [
      "WARNING: Logging before flag parsing goes to stderr.\n",
      "W1209 07:38:52.469568  3500 callbacks.py:244] Method (on_train_batch_end) is slow compared to the batch update (0.167053). Check your callbacks.\n"
     ]
    },
    {
     "name": "stdout",
     "output_type": "stream",
     "text": [
      "53984/54000 [============================>.] - ETA: 0s - loss: 0.4796 - acc: 0.8577\n",
      "Epoch 00001: saving model to .model.h5\n",
      "54000/54000 [==============================] - 33s 618us/sample - loss: 0.4795 - acc: 0.8577 - val_loss: 0.2687 - val_acc: 0.9170\n",
      "Epoch 2/10\n",
      "53984/54000 [============================>.] - ETA: 0s - loss: 0.2529 - acc: 0.9279\n",
      "Epoch 00002: saving model to .model.h5\n",
      "54000/54000 [==============================] - 35s 643us/sample - loss: 0.2529 - acc: 0.9279 - val_loss: 0.1605 - val_acc: 0.9578\n",
      "Epoch 3/10\n",
      "53952/54000 [============================>.] - ETA: 0s - loss: 0.1656 - acc: 0.9521\n",
      "Epoch 00003: saving model to .model.h5\n",
      "54000/54000 [==============================] - 36s 658us/sample - loss: 0.1655 - acc: 0.9521 - val_loss: 0.1139 - val_acc: 0.9702\n",
      "Epoch 4/10\n",
      "53888/54000 [============================>.] - ETA: 0s - loss: 0.1202 - acc: 0.9664\n",
      "Epoch 00004: saving model to .model.h5\n",
      "54000/54000 [==============================] - 31s 570us/sample - loss: 0.1202 - acc: 0.9664 - val_loss: 0.1101 - val_acc: 0.9720\n",
      "Epoch 5/10\n",
      "53984/54000 [============================>.] - ETA: 0s - loss: 0.0978 - acc: 0.9716\n",
      "Epoch 00005: saving model to .model.h5\n",
      "54000/54000 [==============================] - 32s 600us/sample - loss: 0.0979 - acc: 0.9716 - val_loss: 0.0899 - val_acc: 0.9785\n",
      "Epoch 6/10\n",
      "53920/54000 [============================>.] - ETA: 0s - loss: 0.0851 - acc: 0.9750- ETA: 0s - loss: 0.0850 - acc: 0\n",
      "Epoch 00006: saving model to .model.h5\n",
      "54000/54000 [==============================] - 35s 640us/sample - loss: 0.0851 - acc: 0.9750 - val_loss: 0.0844 - val_acc: 0.9783\n",
      "Epoch 7/10\n",
      "53888/54000 [============================>.] - ETA: 0s - loss: 0.0763 - acc: 0.9781\n",
      "Epoch 00007: saving model to .model.h5\n",
      "54000/54000 [==============================] - 34s 636us/sample - loss: 0.0762 - acc: 0.9782 - val_loss: 0.0756 - val_acc: 0.9810\n",
      "Epoch 8/10\n",
      "53952/54000 [============================>.] - ETA: 0s - loss: 0.0693 - acc: 0.9796\n",
      "Epoch 00008: saving model to .model.h5\n",
      "54000/54000 [==============================] - 32s 592us/sample - loss: 0.0694 - acc: 0.9795 - val_loss: 0.0775 - val_acc: 0.9782\n",
      "Epoch 9/10\n",
      "53920/54000 [============================>.] - ETA: 0s - loss: 0.0650 - acc: 0.9809\n",
      "Epoch 00009: saving model to .model.h5\n",
      "54000/54000 [==============================] - 34s 633us/sample - loss: 0.0649 - acc: 0.9809 - val_loss: 0.0721 - val_acc: 0.9818\n",
      "Epoch 10/10\n",
      "53984/54000 [============================>.] - ETA: 0s - loss: 0.0598 - acc: 0.9823\n",
      "Epoch 00010: saving model to .model.h5\n",
      "54000/54000 [==============================] - 35s 647us/sample - loss: 0.0598 - acc: 0.9822 - val_loss: 0.0704 - val_acc: 0.9825\n"
     ]
    },
    {
     "data": {
      "text/plain": [
       "<tensorflow.python.keras.callbacks.History at 0x184417f8ba8>"
      ]
     },
     "execution_count": 11,
     "metadata": {},
     "output_type": "execute_result"
    }
   ],
   "source": [
    "model.fit(x_train,y_train,epochs=10,validation_split=0.1,callbacks=[tensorboard,stop,checkpoint])"
   ]
  },
  {
   "cell_type": "code",
   "execution_count": null,
   "metadata": {},
   "outputs": [],
   "source": []
  },
  {
   "cell_type": "code",
   "execution_count": null,
   "metadata": {},
   "outputs": [],
   "source": []
  }
 ],
 "metadata": {
  "kernelspec": {
   "display_name": "Python 3",
   "language": "python",
   "name": "python3"
  },
  "language_info": {
   "codemirror_mode": {
    "name": "ipython",
    "version": 3
   },
   "file_extension": ".py",
   "mimetype": "text/x-python",
   "name": "python",
   "nbconvert_exporter": "python",
   "pygments_lexer": "ipython3",
   "version": "3.6.4"
  }
 },
 "nbformat": 4,
 "nbformat_minor": 2
}
