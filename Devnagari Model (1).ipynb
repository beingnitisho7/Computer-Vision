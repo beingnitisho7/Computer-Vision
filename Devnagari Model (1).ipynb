{
 "cells": [
  {
   "cell_type": "code",
   "execution_count": 2,
   "metadata": {},
   "outputs": [
    {
     "name": "stderr",
     "output_type": "stream",
     "text": [
      "Using TensorFlow backend.\n"
     ]
    }
   ],
   "source": [
    "import cv2\n",
    "import numpy as np\n",
    "import matplotlib.pyplot as plt\n",
    "from keras.preprocessing.image import ImageDataGenerator\n",
    "\n",
    "from tensorflow.keras import  layers\n"
   ]
  },
  {
   "cell_type": "code",
   "execution_count": 3,
   "metadata": {},
   "outputs": [
    {
     "data": {
      "text/plain": [
       "<matplotlib.image.AxesImage at 0x14868d7c358>"
      ]
     },
     "execution_count": 3,
     "metadata": {},
     "output_type": "execute_result"
    },
    {
     "data": {
      "image/png": "[encoded data removed]",
      "text/plain": [
       "<Figure size 432x288 with 1 Axes>"
      ]
     },
     "metadata": {
      "needs_background": "light"
     },
     "output_type": "display_data"
    }
   ],
   "source": [
    "img= cv2.imread('files/train/character_1_ka/10976.png',1)\n",
    "\n",
    "plt.imshow(img)"
   ]
  },
  {
   "cell_type": "code",
   "execution_count": 4,
   "metadata": {},
   "outputs": [],
   "source": [
    "gray_image=cv2.cvtColor(img,cv2.COLOR_BGR2GRAY)"
   ]
  },
  {
   "cell_type": "code",
   "execution_count": 5,
   "metadata": {},
   "outputs": [
    {
     "name": "stdout",
     "output_type": "stream",
     "text": [
      "Found 70380 images belonging to 46 classes.\n",
      "Found 493 images belonging to 2 classes.\n",
      "Found 7820 images belonging to 46 classes.\n"
     ]
    }
   ],
   "source": [
    "S=32 # shape of your image\n",
    "\n",
    "trainGen = ImageDataGenerator(rescale=1./255, validation_split=0.1)\n",
    "testGen = ImageDataGenerator(rescale=1./255)\n",
    "\n",
    "train_set= trainGen.flow_from_directory('files/Train',\n",
    "                                        target_size=(S, S),\n",
    "                                        color_mode='grayscale',\n",
    "                                       batch_size=32,\n",
    "                                       class_mode='categorical',\n",
    "                                       subset=\"training\")\n",
    "test_set= testGen.flow_from_directory('files/Test',\n",
    "                                        target_size=(S, S),\n",
    "                                        color_mode='grayscale',\n",
    "                                       batch_size=32,\n",
    "                                       class_mode='categorical')\n",
    "\n",
    "val_set=trainGen.flow_from_directory('files/Train',\n",
    "                                        target_size=(S, S),\n",
    "                                        color_mode='grayscale',\n",
    "                                       batch_size=32,\n",
    "                                       class_mode='categorical',\n",
    "                                       subset=\"validation\")"
   ]
  },
  {
   "cell_type": "code",
   "execution_count": null,
   "metadata": {},
   "outputs": [],
   "source": []
  },
  {
   "cell_type": "code",
   "execution_count": 6,
   "metadata": {},
   "outputs": [
    {
     "data": {
      "text/plain": [
       "array([[0., 0., 0., ..., 0., 1., 0.],\n",
       "       [0., 0., 0., ..., 1., 0., 0.],\n",
       "       [0., 1., 0., ..., 0., 0., 0.],\n",
       "       ...,\n",
       "       [0., 0., 0., ..., 0., 1., 0.],\n",
       "       [0., 0., 0., ..., 0., 0., 0.],\n",
       "       [0., 0., 0., ..., 0., 0., 0.]], dtype=float32)"
      ]
     },
     "execution_count": 6,
     "metadata": {},
     "output_type": "execute_result"
    }
   ],
   "source": [
    "train_set[0][1]"
   ]
  },
  {
   "cell_type": "code",
   "execution_count": 7,
   "metadata": {},
   "outputs": [],
   "source": [
    "from tensorflow.keras.models import Sequential\n",
    "from tensorflow.keras.layers import Conv2D,Dense,Flatten,Dropout,MaxPool2D"
   ]
  },
  {
   "cell_type": "code",
   "execution_count": 8,
   "metadata": {},
   "outputs": [
    {
     "name": "stdout",
     "output_type": "stream",
     "text": [
      "Model: \"sequential\"\n",
      "_________________________________________________________________\n",
      "Layer (type)                 Output Shape              Param #   \n",
      "=================================================================\n",
      "conv2d (Conv2D)              (None, 32, 32, 5)         50        \n",
      "_________________________________________________________________\n",
      "max_pooling2d (MaxPooling2D) (None, 16, 16, 5)         0         \n",
      "_________________________________________________________________\n",
      "dropout (Dropout)            (None, 16, 16, 5)         0         \n",
      "_________________________________________________________________\n",
      "conv2d_1 (Conv2D)            (None, 14, 14, 10)        460       \n",
      "_________________________________________________________________\n",
      "max_pooling2d_1 (MaxPooling2 (None, 7, 7, 10)          0         \n",
      "_________________________________________________________________\n",
      "dropout_1 (Dropout)          (None, 7, 7, 10)          0         \n",
      "_________________________________________________________________\n",
      "flatten (Flatten)            (None, 490)               0         \n",
      "_________________________________________________________________\n",
      "dense (Dense)                (None, 200)               98200     \n",
      "_________________________________________________________________\n",
      "dense_1 (Dense)              (None, 46)                9246      \n",
      "=================================================================\n",
      "Total params: 107,956\n",
      "Trainable params: 107,956\n",
      "Non-trainable params: 0\n",
      "_________________________________________________________________\n"
     ]
    }
   ],
   "source": [
    "model = Sequential()\n",
    "model.add(Conv2D(filters =5,kernel_size=(3,3), padding='same', input_shape=(S,S,1), activation='relu', data_format=\"channels_last\"))\n",
    "#model.add(Conv2D(filters =5, kernel_size=(3,3), activation='relu'))\n",
    "model.add(layers.MaxPooling2D((2, 2)))\n",
    "model.add(Dropout(0.2))\n",
    "model.add(Conv2D(10, (3, 3), activation='relu'))\n",
    "model.add(layers.MaxPooling2D((2, 2)))\n",
    "model.add(Dropout(0.2))\n",
    "model.add(Flatten())\n",
    "\n",
    "model.add(Dense(200,activation='relu'))\n",
    "model.add(Dense(46,activation='softmax'))\n",
    "model.summary()"
   ]
  },
  {
   "cell_type": "code",
   "execution_count": 9,
   "metadata": {},
   "outputs": [],
   "source": [
    "model.compile('adam', 'categorical_crossentropy',metrics=['acc'])"
   ]
  },
  {
   "cell_type": "code",
   "execution_count": null,
   "metadata": {},
   "outputs": [
    {
     "name": "stdout",
     "output_type": "stream",
     "text": [
      "Epoch 1/20\n",
      "100/100 [==============================] - 48s 476ms/step - loss: 3.3356 - acc: 0.1678 - val_loss: 2.5107 - val_acc: 0.3250\n",
      "Epoch 2/20\n",
      "100/100 [==============================] - 30s 304ms/step - loss: 2.0585 - acc: 0.4500 - val_loss: 1.9155 - val_acc: 0.4281\n",
      "Epoch 3/20\n",
      "100/100 [==============================] - 27s 270ms/step - loss: 1.5664 - acc: 0.5603 - val_loss: 1.5088 - val_acc: 0.6031\n",
      "Epoch 4/20\n",
      "100/100 [==============================] - 24s 238ms/step - loss: 1.3078 - acc: 0.6281 - val_loss: 1.4351 - val_acc: 0.5781\n",
      "Epoch 5/20\n",
      "100/100 [==============================] - 23s 234ms/step - loss: 1.1445 - acc: 0.6622 - val_loss: 1.2254 - val_acc: 0.6344\n",
      "Epoch 6/20\n",
      "100/100 [==============================] - 29s 295ms/step - loss: 0.9710 - acc: 0.7072 - val_loss: 1.0835 - val_acc: 0.6687\n",
      "Epoch 7/20\n",
      "100/100 [==============================] - 25s 252ms/step - loss: 0.8955 - acc: 0.7422 - val_loss: 0.9819 - val_acc: 0.7250\n",
      "Epoch 8/20\n",
      " 98/100 [============================>.] - ETA: 0s - loss: 0.8459 - acc: 0.7529"
     ]
    }
   ],
   "source": [
    "model.fit_generator(train_set, steps_per_epoch=100,epochs=20,validation_data=val_set,\n",
    "                           validation_steps=10)"
   ]
  },
  {
   "cell_type": "code",
   "execution_count": 10,
   "metadata": {},
   "outputs": [],
   "source": [
    "#model.fit(train_set, epochs=5,steps_per_epoch=70380,validation_data=val_set,validation_steps=7820)"
   ]
  },
  {
   "cell_type": "code",
   "execution_count": null,
   "metadata": {},
   "outputs": [],
   "source": []
  },
  {
   "cell_type": "code",
   "execution_count": 11,
   "metadata": {},
   "outputs": [
    {
     "data": {
      "text/plain": [
       "<matplotlib.image.AxesImage at 0x22a8116acc0>"
      ]
     },
     "execution_count": 11,
     "metadata": {},
     "output_type": "execute_result"
    },
    {
     "data": {
      "image/png": "[encoded data removed]",
      "text/plain": [
       "<Figure size 432x288 with 1 Axes>"
      ]
     },
     "metadata": {
      "needs_background": "light"
     },
     "output_type": "display_data"
    }
   ],
   "source": [
    "img= cv2.imread('filo/filo/DCR/kaaraa.png',0)\n",
    "\n",
    "plt.imshow(img, cmap=\"gray\")"
   ]
  },
  {
   "cell_type": "code",
   "execution_count": 12,
   "metadata": {},
   "outputs": [
    {
     "data": {
      "text/plain": [
       "<matplotlib.image.AxesImage at 0x22a811d55f8>"
      ]
     },
     "execution_count": 12,
     "metadata": {},
     "output_type": "execute_result"
    },
    {
     "data": {
      "image/png": "[encoded data removed]",
      "text/plain": [
       "<Figure size 432x288 with 1 Axes>"
      ]
     },
     "metadata": {
      "needs_background": "light"
     },
     "output_type": "display_data"
    }
   ],
   "source": [
    "plt.imshow(img[100:500,50:500],cmap=\"gray\")  #manually cropping image from row and column"
   ]
  },
  {
   "cell_type": "code",
   "execution_count": 13,
   "metadata": {},
   "outputs": [],
   "source": [
    "#testGen=ImageDataGenerator(rescale=1./255)\n",
    "\n",
    "#test_set=testGen.flow_from_directory('filo/filo/DCR',target_size=(S,S),color_mode='rgb',batch_size=2, class_mode='categorical')"
   ]
  },
  {
   "cell_type": "code",
   "execution_count": 1,
   "metadata": {},
   "outputs": [
    {
     "ename": "NameError",
     "evalue": "name 'img' is not defined",
     "output_type": "error",
     "traceback": [
      "\u001b[1;31m---------------------------------------------------------------------------\u001b[0m",
      "\u001b[1;31mNameError\u001b[0m                                 Traceback (most recent call last)",
      "\u001b[1;32m<ipython-input-1-cded87165f3e>\u001b[0m in \u001b[0;36m<module>\u001b[1;34m\u001b[0m\n\u001b[0;32m     17\u001b[0m             \u001b[1;32mbreak\u001b[0m\u001b[1;33m\u001b[0m\u001b[1;33m\u001b[0m\u001b[0m\n\u001b[0;32m     18\u001b[0m     \u001b[1;32mreturn\u001b[0m \u001b[0mtop\u001b[0m\u001b[1;33m\u001b[0m\u001b[1;33m\u001b[0m\u001b[0m\n\u001b[1;32m---> 19\u001b[1;33m \u001b[0mtop\u001b[0m \u001b[1;33m=\u001b[0m \u001b[0mcrop\u001b[0m\u001b[1;33m(\u001b[0m\u001b[0mimg\u001b[0m\u001b[1;33m)\u001b[0m\u001b[1;33m\u001b[0m\u001b[1;33m\u001b[0m\u001b[0m\n\u001b[0m\u001b[0;32m     20\u001b[0m \u001b[0mbottom\u001b[0m\u001b[1;33m=\u001b[0m\u001b[0mcrop\u001b[0m\u001b[1;33m(\u001b[0m\u001b[0mimg\u001b[0m\u001b[1;33m[\u001b[0m\u001b[1;33m:\u001b[0m\u001b[1;33m:\u001b[0m\u001b[1;33m-\u001b[0m\u001b[1;36m1\u001b[0m\u001b[1;33m]\u001b[0m\u001b[1;33m)\u001b[0m\u001b[1;33m\u001b[0m\u001b[1;33m\u001b[0m\u001b[0m\n\u001b[0;32m     21\u001b[0m \u001b[0mright\u001b[0m\u001b[1;33m=\u001b[0m\u001b[0mcrop\u001b[0m\u001b[1;33m(\u001b[0m\u001b[0mimg\u001b[0m\u001b[1;33m.\u001b[0m\u001b[0mT\u001b[0m\u001b[1;33m)\u001b[0m\u001b[1;33m\u001b[0m\u001b[1;33m\u001b[0m\u001b[0m\n",
      "\u001b[1;31mNameError\u001b[0m: name 'img' is not defined"
     ]
    }
   ],
   "source": [
    "def crop(img, thresh=0):\n",
    "    size = img.shape\n",
    "    print(size)\n",
    "    edit_image=img.copy()\n",
    "    #thresh = 0 #background pixel value\n",
    "\n",
    "    thresh= thresh\n",
    "\n",
    "    bg_pixels= np.repeat(thresh,size[1])#size [1] takes no. of colum \n",
    "\n",
    "    top=0\n",
    "    count=0\n",
    "\n",
    "    for row in range(1, size[0]):\n",
    "        if np.equal(bg_pixels,img[row]).any()==True:\n",
    "            top = row\n",
    "            #count+=1\n",
    "            break\n",
    "    return top\n",
    "top = crop(img)\n",
    "bottom=crop(img[::-1])\n",
    "right=crop(img.T)\n",
    "left=crop(img.T[::-1])\n"
   ]
  },
  {
   "cell_type": "code",
   "execution_count": 15,
   "metadata": {},
   "outputs": [],
   "source": [
    "# bottom crop , left rigt crop in open cv Task"
   ]
  },
  {
   "cell_type": "code",
   "execution_count": 16,
   "metadata": {},
   "outputs": [
    {
     "name": "stderr",
     "output_type": "stream",
     "text": [
      "C:\\Users\\User\\Anaconda3\\lib\\site-packages\\ipykernel_launcher.py:3: UserWarning: Attempting to set identical left == right == -0.5 results in singular transformations; automatically expanding.\n",
      "  This is separate from the ipykernel package so we can avoid doing imports until\n"
     ]
    },
    {
     "data": {
      "text/plain": [
       "<matplotlib.image.AxesImage at 0x22a812431d0>"
      ]
     },
     "execution_count": 16,
     "metadata": {},
     "output_type": "execute_result"
    },
    {
     "data": {
      "image/png": "[encoded data removed]",
      "text/plain": [
       "<Figure size 432x288 with 1 Axes>"
      ]
     },
     "metadata": {
      "needs_background": "light"
     },
     "output_type": "display_data"
    }
   ],
   "source": [
    "#plt.imshow(edit_image[top:])\n",
    "\n",
    "plt.imshow(img[top:bottom,left:right])"
   ]
  },
  {
   "cell_type": "code",
   "execution_count": null,
   "metadata": {},
   "outputs": [],
   "source": [
    "def crop(img, thresh=0):\n",
    "    size = img.shape\n",
    "    print(size)\n",
    "    edit_image=img.copy()\n",
    "    #thresh = 0 #background pixel value\n",
    "\n",
    "    thresh= thresh\n",
    "\n",
    "    bg_pixels= np.repeat(thresh,size[1])#size [1] takes no. of colum \n",
    "\n",
    "    top=0\n",
    "    count=0\n",
    "    \n",
    "    crop_value=int(20*size[0]/ 604)\n",
    "    for row in range(1, size[0]):\n",
    "        if np.equal(bg_pixels,img[row]).any()==True:\n",
    "            \n",
    "            count+=1\n",
    "        else:\n",
    "            pass\n",
    "        \n",
    "        if count>=crop_value:\n",
    "            top=row-crop_value\n",
    "            break\n",
    "            \n",
    "    return top\n",
    "top = crop(img)\n",
    "bottom=crop(img[::-1])\n",
    "right=crop(img.T)\n",
    "left=crop(img.T[::-1])\n"
   ]
  }
 ],
 "metadata": {
  "kernelspec": {
   "display_name": "Python 3",
   "language": "python",
   "name": "python3"
  },
  "language_info": {
   "codemirror_mode": {
    "name": "ipython",
    "version": 3
   },
   "file_extension": ".py",
   "mimetype": "text/x-python",
   "name": "python",
   "nbconvert_exporter": "python",
   "pygments_lexer": "ipython3",
   "version": "3.7.3"
  }
 },
 "nbformat": 4,
 "nbformat_minor": 2
}
